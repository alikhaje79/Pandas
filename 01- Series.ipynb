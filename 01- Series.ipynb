{
 "cells": [
  {
   "cell_type": "markdown",
   "id": "f1e3713b",
   "metadata": {},
   "source": [
    "# import numpy , pandas"
   ]
  },
  {
   "cell_type": "code",
   "execution_count": 1,
   "id": "56c9d80b",
   "metadata": {},
   "outputs": [],
   "source": [
    "import pandas as pd\n",
    "import numpy as np"
   ]
  },
  {
   "cell_type": "code",
   "execution_count": 2,
   "id": "266ccb6a",
   "metadata": {},
   "outputs": [],
   "source": [
    "array1 = np.array(['python','matlab','c++','java'])"
   ]
  },
  {
   "cell_type": "markdown",
   "id": "66b7f7d4",
   "metadata": {},
   "source": [
    "#### Series"
   ]
  },
  {
   "cell_type": "code",
   "execution_count": 3,
   "id": "2f18cb09",
   "metadata": {},
   "outputs": [],
   "source": [
    "series1 = pd.Series(array1)"
   ]
  },
  {
   "cell_type": "code",
   "execution_count": 4,
   "id": "e2806bff",
   "metadata": {},
   "outputs": [],
   "source": [
    "series2 = pd.Series(array1 , index=[10,11,12,13])"
   ]
  },
  {
   "cell_type": "code",
   "execution_count": 5,
   "id": "b3336874",
   "metadata": {},
   "outputs": [],
   "source": [
    "series3 = pd.Series(array1 , index=['a','b','c','d'])"
   ]
  },
  {
   "cell_type": "code",
   "execution_count": 6,
   "id": "1b693828",
   "metadata": {},
   "outputs": [
    {
     "name": "stdout",
     "output_type": "stream",
     "text": [
      "0    python\n",
      "1    matlab\n",
      "2       c++\n",
      "3      java\n",
      "dtype: object\n",
      "********************\n",
      "10    python\n",
      "11    matlab\n",
      "12       c++\n",
      "13      java\n",
      "dtype: object\n",
      "********************\n",
      "a    python\n",
      "b    matlab\n",
      "c       c++\n",
      "d      java\n",
      "dtype: object\n"
     ]
    }
   ],
   "source": [
    "print(series1)\n",
    "print('*'*20)\n",
    "print(series2)\n",
    "print('*'*20)\n",
    "print(series3)"
   ]
  },
  {
   "cell_type": "markdown",
   "id": "e5a10e12",
   "metadata": {},
   "source": [
    "#### Series in dictionary"
   ]
  },
  {
   "cell_type": "code",
   "execution_count": 7,
   "id": "29d059db",
   "metadata": {},
   "outputs": [],
   "source": [
    "data = {'a':0 , 'b':1 , 'c':2 , 'd':3}\n",
    "series4 = pd.Series(data)"
   ]
  },
  {
   "cell_type": "code",
   "execution_count": 8,
   "id": "e73b2805",
   "metadata": {},
   "outputs": [
    {
     "name": "stdout",
     "output_type": "stream",
     "text": [
      "a    0\n",
      "b    1\n",
      "c    2\n",
      "d    3\n",
      "dtype: int64\n"
     ]
    }
   ],
   "source": [
    "print(series4)"
   ]
  },
  {
   "cell_type": "markdown",
   "id": "5b69a45a",
   "metadata": {},
   "source": [
    "#### loc()"
   ]
  },
  {
   "cell_type": "code",
   "execution_count": 9,
   "id": "749f01e1",
   "metadata": {},
   "outputs": [
    {
     "name": "stdout",
     "output_type": "stream",
     "text": [
      "c++\n",
      "********************\n",
      "11    matlab\n",
      "12       c++\n",
      "13      java\n",
      "dtype: object\n",
      "********************\n",
      "3\n"
     ]
    }
   ],
   "source": [
    "print(series1.loc[2])\n",
    "print('*'*20)\n",
    "print(series2.loc[11:14])\n",
    "print('*'*20)\n",
    "print(series4.loc['d'])"
   ]
  },
  {
   "cell_type": "markdown",
   "id": "c993ffd2",
   "metadata": {},
   "source": [
    "#### iloc()"
   ]
  },
  {
   "cell_type": "code",
   "execution_count": 10,
   "id": "3f1ca509",
   "metadata": {},
   "outputs": [
    {
     "name": "stdout",
     "output_type": "stream",
     "text": [
      "c++\n",
      "********************\n",
      "12     c++\n",
      "13    java\n",
      "dtype: object\n",
      "********************\n",
      "c     c++\n",
      "d    java\n",
      "dtype: object\n"
     ]
    }
   ],
   "source": [
    "print(series1.iloc[2])\n",
    "print('*'*20)\n",
    "print(series2.iloc[2:4])\n",
    "print('*'*20)\n",
    "print(series3.iloc[2:4])"
   ]
  },
  {
   "cell_type": "markdown",
   "id": "59f9b4d1",
   "metadata": {},
   "source": [
    "#### values "
   ]
  },
  {
   "cell_type": "code",
   "execution_count": 11,
   "id": "5cddb3ff",
   "metadata": {},
   "outputs": [
    {
     "name": "stdout",
     "output_type": "stream",
     "text": [
      "['python' 'matlab' 'c++' 'java']\n"
     ]
    }
   ],
   "source": [
    "print(series1.values)"
   ]
  },
  {
   "cell_type": "markdown",
   "id": "4b2205c9",
   "metadata": {},
   "source": [
    "#### index"
   ]
  },
  {
   "cell_type": "code",
   "execution_count": 12,
   "id": "813cc573",
   "metadata": {},
   "outputs": [
    {
     "name": "stdout",
     "output_type": "stream",
     "text": [
      "RangeIndex(start=0, stop=4, step=1)\n"
     ]
    }
   ],
   "source": [
    "print(series1.index)"
   ]
  }
 ],
 "metadata": {
  "kernelspec": {
   "display_name": "Python 3 (ipykernel)",
   "language": "python",
   "name": "python3"
  },
  "language_info": {
   "codemirror_mode": {
    "name": "ipython",
    "version": 3
   },
   "file_extension": ".py",
   "mimetype": "text/x-python",
   "name": "python",
   "nbconvert_exporter": "python",
   "pygments_lexer": "ipython3",
   "version": "3.10.4"
  }
 },
 "nbformat": 4,
 "nbformat_minor": 5
}
