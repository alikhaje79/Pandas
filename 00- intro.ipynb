{
 "cells": [
  {
   "cell_type": "markdown",
   "id": "aee988ec",
   "metadata": {},
   "source": [
    "# install pandas with pip in cmd"
   ]
  },
  {
   "cell_type": "markdown",
   "id": "ca19e958",
   "metadata": {},
   "source": [
    "<h3 style=\"color:red;\"> windows</h3>"
   ]
  },
  {
   "cell_type": "markdown",
   "id": "16652dbf",
   "metadata": {},
   "source": [
    "# python -m pip install --upgrade pandas\n",
    "\n",
    "python -m pip install --upgrade --user pandas"
   ]
  },
  {
   "cell_type": "markdown",
   "id": "10c7259a",
   "metadata": {},
   "source": [
    "<h3 style=\"color:red;\"> mac </h3>"
   ]
  },
  {
   "cell_type": "markdown",
   "id": "dfd89d97",
   "metadata": {},
   "source": [
    "python3 -m pip install --upgrade pandas\n",
    "\n",
    "python3 -m pip install --upgrade --user pandas"
   ]
  },
  {
   "cell_type": "markdown",
   "id": "4bcec594",
   "metadata": {},
   "source": [
    "<h3 style=\"color:red;\"> linux</h3>"
   ]
  },
  {
   "cell_type": "markdown",
   "id": "6195489f",
   "metadata": {},
   "source": [
    "python3 -m pip install --upgrade pandas\n",
    "\n",
    "python3 -m pip install --upgrade --user pandas"
   ]
  }
 ],
 "metadata": {
  "kernelspec": {
   "display_name": "Python 3 (ipykernel)",
   "language": "python",
   "name": "python3"
  },
  "language_info": {
   "codemirror_mode": {
    "name": "ipython",
    "version": 3
   },
   "file_extension": ".py",
   "mimetype": "text/x-python",
   "name": "python",
   "nbconvert_exporter": "python",
   "pygments_lexer": "ipython3",
   "version": "3.10.4"
  }
 },
 "nbformat": 4,
 "nbformat_minor": 5
}
