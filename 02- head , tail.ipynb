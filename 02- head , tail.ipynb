{
 "cells": [
  {
   "cell_type": "markdown",
   "id": "7ed109b7",
   "metadata": {},
   "source": [
    "# import numpy , pandas"
   ]
  },
  {
   "cell_type": "code",
   "execution_count": 1,
   "id": "3411c2b4",
   "metadata": {},
   "outputs": [],
   "source": [
    "import pandas as pd\n",
    "import numpy as np"
   ]
  },
  {
   "cell_type": "code",
   "execution_count": 2,
   "id": "127aa9bf",
   "metadata": {},
   "outputs": [],
   "source": [
    "array1 = np.array(['python','matlab','c++','java','visual basic','C#'])"
   ]
  },
  {
   "cell_type": "code",
   "execution_count": 3,
   "id": "dc8c9625",
   "metadata": {},
   "outputs": [],
   "source": [
    "series1 = pd.Series(array1)"
   ]
  },
  {
   "cell_type": "code",
   "execution_count": 4,
   "id": "ce79be08",
   "metadata": {},
   "outputs": [
    {
     "name": "stdout",
     "output_type": "stream",
     "text": [
      "0          python\n",
      "1          matlab\n",
      "2             c++\n",
      "3            java\n",
      "4    visual basic\n",
      "5              C#\n",
      "dtype: object\n"
     ]
    }
   ],
   "source": [
    "print(series1)"
   ]
  },
  {
   "cell_type": "markdown",
   "id": "0d75d47e",
   "metadata": {},
   "source": [
    "#### head()"
   ]
  },
  {
   "cell_type": "code",
   "execution_count": 5,
   "id": "750c793e",
   "metadata": {},
   "outputs": [
    {
     "name": "stdout",
     "output_type": "stream",
     "text": [
      "0    python\n",
      "1    matlab\n",
      "dtype: object\n"
     ]
    }
   ],
   "source": [
    "print(series1.head(2))"
   ]
  },
  {
   "cell_type": "markdown",
   "id": "d70cbd47",
   "metadata": {},
   "source": [
    "#### tail()"
   ]
  },
  {
   "cell_type": "code",
   "execution_count": 6,
   "id": "1c7e5804",
   "metadata": {},
   "outputs": [
    {
     "name": "stdout",
     "output_type": "stream",
     "text": [
      "4    visual basic\n",
      "5              C#\n",
      "dtype: object\n"
     ]
    }
   ],
   "source": [
    "print(series1.tail(2))"
   ]
  }
 ],
 "metadata": {
  "kernelspec": {
   "display_name": "Python 3 (ipykernel)",
   "language": "python",
   "name": "python3"
  },
  "language_info": {
   "codemirror_mode": {
    "name": "ipython",
    "version": 3
   },
   "file_extension": ".py",
   "mimetype": "text/x-python",
   "name": "python",
   "nbconvert_exporter": "python",
   "pygments_lexer": "ipython3",
   "version": "3.10.4"
  }
 },
 "nbformat": 4,
 "nbformat_minor": 5
}
