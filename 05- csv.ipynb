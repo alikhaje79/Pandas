{
 "cells": [
  {
   "cell_type": "markdown",
   "id": "d78d7f80",
   "metadata": {},
   "source": [
    "# import pandas"
   ]
  },
  {
   "cell_type": "code",
   "execution_count": 1,
   "id": "30e05282",
   "metadata": {},
   "outputs": [],
   "source": [
    "import pandas as pd"
   ]
  },
  {
   "cell_type": "markdown",
   "id": "9210f8ea",
   "metadata": {},
   "source": [
    "#### read csv"
   ]
  },
  {
   "cell_type": "code",
   "execution_count": 2,
   "id": "e4dcc4d4",
   "metadata": {},
   "outputs": [],
   "source": [
    "data = pd.read_csv('mydata.csv')"
   ]
  },
  {
   "cell_type": "markdown",
   "id": "d777e122",
   "metadata": {},
   "source": [
    "###### df = pd.DataFrame(data , columns , dtype , copy)"
   ]
  },
  {
   "cell_type": "code",
   "execution_count": 3,
   "id": "29405393",
   "metadata": {},
   "outputs": [],
   "source": [
    "df = pd.DataFrame(data , columns=['name' , 'age' , 'job'])"
   ]
  },
  {
   "cell_type": "code",
   "execution_count": 4,
   "id": "c13e7838",
   "metadata": {},
   "outputs": [
    {
     "name": "stdout",
     "output_type": "stream",
     "text": [
      "         name  age                job\n",
      "0       James   21         programmer\n",
      "1        Mary   19            actuary\n",
      "2        John   24         bank clerk\n",
      "3      Robert   11          economist\n",
      "4    Jennifer   29  financial adviser\n",
      "5     Michael   17             doctor\n",
      "6   Elizabeth   26            manager\n",
      "7     William   12    project manager\n",
      "8       Linda   20            cashier\n",
      "9       David   10              baker\n",
      "10    Barbara   28        telephonist\n",
      "11    Richard   18       web designer\n",
      "12      Susan   35            dentist\n",
      "13     Joseph   41             Joseph\n"
     ]
    }
   ],
   "source": [
    "print(df)"
   ]
  },
  {
   "cell_type": "code",
   "execution_count": 5,
   "id": "71cde2a5",
   "metadata": {},
   "outputs": [
    {
     "name": "stdout",
     "output_type": "stream",
     "text": [
      "jobs columns is :\n",
      " 0            programmer\n",
      "1               actuary\n",
      "2            bank clerk\n",
      "3             economist\n",
      "4     financial adviser\n",
      "5                doctor\n",
      "6               manager\n",
      "7       project manager\n",
      "8               cashier\n",
      "9                 baker\n",
      "10          telephonist\n",
      "11         web designer\n",
      "12              dentist\n",
      "13               Joseph\n",
      "Name: job, dtype: object\n"
     ]
    }
   ],
   "source": [
    "print('jobs columns is :\\n' , df['job'])"
   ]
  },
  {
   "cell_type": "markdown",
   "id": "4f78f89a",
   "metadata": {},
   "source": [
    "#### loc"
   ]
  },
  {
   "cell_type": "code",
   "execution_count": 6,
   "id": "3b0834b2",
   "metadata": {},
   "outputs": [
    {
     "name": "stdout",
     "output_type": "stream",
     "text": [
      "name       Robert\n",
      "age            11\n",
      "job     economist\n",
      "Name: 3, dtype: object\n"
     ]
    }
   ],
   "source": [
    "print(df.loc[3])"
   ]
  },
  {
   "cell_type": "markdown",
   "id": "2b058cb2",
   "metadata": {},
   "source": [
    "#### head"
   ]
  },
  {
   "cell_type": "code",
   "execution_count": 7,
   "id": "63ddd704",
   "metadata": {},
   "outputs": [
    {
     "name": "stdout",
     "output_type": "stream",
     "text": [
      "       name  age                job\n",
      "0     James   21         programmer\n",
      "1      Mary   19            actuary\n",
      "2      John   24         bank clerk\n",
      "3    Robert   11          economist\n",
      "4  Jennifer   29  financial adviser\n"
     ]
    }
   ],
   "source": [
    "print(df.head(5))"
   ]
  },
  {
   "cell_type": "markdown",
   "id": "835199d6",
   "metadata": {},
   "source": [
    "#### tail"
   ]
  },
  {
   "cell_type": "code",
   "execution_count": 8,
   "id": "206ed98c",
   "metadata": {},
   "outputs": [
    {
     "name": "stdout",
     "output_type": "stream",
     "text": [
      "       name  age           job\n",
      "9     David   10         baker\n",
      "10  Barbara   28   telephonist\n",
      "11  Richard   18  web designer\n",
      "12    Susan   35       dentist\n",
      "13   Joseph   41        Joseph\n"
     ]
    }
   ],
   "source": [
    "print(df.tail(5))"
   ]
  },
  {
   "cell_type": "code",
   "execution_count": 9,
   "id": "32142420",
   "metadata": {},
   "outputs": [
    {
     "name": "stdout",
     "output_type": "stream",
     "text": [
      "0      True\n",
      "1     False\n",
      "2      True\n",
      "3     False\n",
      "4      True\n",
      "5     False\n",
      "6      True\n",
      "7     False\n",
      "8     False\n",
      "9     False\n",
      "10     True\n",
      "11    False\n",
      "12     True\n",
      "13     True\n",
      "Name: age, dtype: bool\n"
     ]
    }
   ],
   "source": [
    "print(df['age']>20)"
   ]
  },
  {
   "cell_type": "code",
   "execution_count": 10,
   "id": "204d8a1d",
   "metadata": {},
   "outputs": [
    {
     "name": "stdout",
     "output_type": "stream",
     "text": [
      "         name  age                job\n",
      "0       James   21         programmer\n",
      "2        John   24         bank clerk\n",
      "4    Jennifer   29  financial adviser\n",
      "6   Elizabeth   26            manager\n",
      "8       Linda   20            cashier\n",
      "10    Barbara   28        telephonist\n",
      "12      Susan   35            dentist\n",
      "13     Joseph   41             Joseph\n"
     ]
    }
   ],
   "source": [
    "print(df[df['age']>=20])"
   ]
  }
 ],
 "metadata": {
  "kernelspec": {
   "display_name": "Python 3 (ipykernel)",
   "language": "python",
   "name": "python3"
  },
  "language_info": {
   "codemirror_mode": {
    "name": "ipython",
    "version": 3
   },
   "file_extension": ".py",
   "mimetype": "text/x-python",
   "name": "python",
   "nbconvert_exporter": "python",
   "pygments_lexer": "ipython3",
   "version": "3.10.4"
  }
 },
 "nbformat": 4,
 "nbformat_minor": 5
}
