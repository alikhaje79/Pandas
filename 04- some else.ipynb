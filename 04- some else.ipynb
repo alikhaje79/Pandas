{
 "cells": [
  {
   "cell_type": "markdown",
   "id": "a057f1bb",
   "metadata": {},
   "source": [
    "# import numpy , pandas"
   ]
  },
  {
   "cell_type": "code",
   "execution_count": 1,
   "id": "fbd15c39",
   "metadata": {},
   "outputs": [],
   "source": [
    "import pandas as pd\n",
    "import numpy as np"
   ]
  },
  {
   "cell_type": "code",
   "execution_count": 2,
   "id": "cea200d2",
   "metadata": {},
   "outputs": [
    {
     "name": "stdout",
     "output_type": "stream",
     "text": [
      "0    1\n",
      "1    2\n",
      "2    3\n",
      "3    4\n",
      "4    5\n",
      "5    6\n",
      "6    7\n",
      "7    8\n",
      "8    9\n",
      "dtype: int64\n"
     ]
    }
   ],
   "source": [
    "series1 = pd.Series([1,2,3,4,5,6,7,8,9])\n",
    "print(series1)"
   ]
  },
  {
   "cell_type": "markdown",
   "id": "de0e376c",
   "metadata": {},
   "source": [
    "#### array"
   ]
  },
  {
   "cell_type": "code",
   "execution_count": 3,
   "id": "bf03841d",
   "metadata": {},
   "outputs": [
    {
     "name": "stdout",
     "output_type": "stream",
     "text": [
      "<PandasArray>\n",
      "[1, 2, 3, 4, 5, 6, 7, 8, 9]\n",
      "Length: 9, dtype: int64\n"
     ]
    }
   ],
   "source": [
    "array1 = series1.array\n",
    "print(array1)"
   ]
  },
  {
   "cell_type": "markdown",
   "id": "03734e9c",
   "metadata": {},
   "source": [
    "#### at"
   ]
  },
  {
   "cell_type": "code",
   "execution_count": 4,
   "id": "f80a312a",
   "metadata": {},
   "outputs": [
    {
     "name": "stdout",
     "output_type": "stream",
     "text": [
      "5\n"
     ]
    }
   ],
   "source": [
    "print(series1.at[4])"
   ]
  },
  {
   "cell_type": "markdown",
   "id": "f913b1e5",
   "metadata": {},
   "source": [
    "#### dtype"
   ]
  },
  {
   "cell_type": "code",
   "execution_count": 5,
   "id": "40d39737",
   "metadata": {},
   "outputs": [
    {
     "name": "stdout",
     "output_type": "stream",
     "text": [
      "int64\n"
     ]
    }
   ],
   "source": [
    "print(series1.dtype)"
   ]
  },
  {
   "cell_type": "markdown",
   "id": "ef307107",
   "metadata": {},
   "source": [
    "#### is_monotonic"
   ]
  },
  {
   "cell_type": "code",
   "execution_count": 6,
   "id": "9cc76681",
   "metadata": {},
   "outputs": [
    {
     "name": "stdout",
     "output_type": "stream",
     "text": [
      "False\n"
     ]
    }
   ],
   "source": [
    "series2 = pd.Series([1,2,5,2,1])\n",
    "print(series2.is_monotonic)"
   ]
  },
  {
   "cell_type": "markdown",
   "id": "4b0f043a",
   "metadata": {},
   "source": [
    "#### is_monotonic_decreasing"
   ]
  },
  {
   "cell_type": "code",
   "execution_count": 7,
   "id": "138bba1b",
   "metadata": {},
   "outputs": [
    {
     "name": "stdout",
     "output_type": "stream",
     "text": [
      "False\n",
      "********************\n",
      "True\n"
     ]
    }
   ],
   "source": [
    "series3 = pd.Series([1,8,9,12,15])\n",
    "series4 = pd.Series([10,8,5,1,0])\n",
    "print(series3.is_monotonic_decreasing)\n",
    "print('*'*20)\n",
    "print(series4.is_monotonic_decreasing)"
   ]
  },
  {
   "cell_type": "markdown",
   "id": "509297a0",
   "metadata": {},
   "source": [
    "#### is_unique"
   ]
  },
  {
   "cell_type": "code",
   "execution_count": 8,
   "id": "d0b81234",
   "metadata": {},
   "outputs": [
    {
     "name": "stdout",
     "output_type": "stream",
     "text": [
      "True\n",
      "********************\n",
      "False\n"
     ]
    }
   ],
   "source": [
    "series5 = pd.Series([1,8,9,12,15])\n",
    "series6 = pd.Series([1,8,9,9,15])\n",
    "print(series5.is_unique)\n",
    "print('*'*20)\n",
    "print(series6.is_unique)"
   ]
  },
  {
   "cell_type": "markdown",
   "id": "21996228",
   "metadata": {},
   "source": [
    "#### size"
   ]
  },
  {
   "cell_type": "code",
   "execution_count": 9,
   "id": "45b234d0",
   "metadata": {},
   "outputs": [
    {
     "name": "stdout",
     "output_type": "stream",
     "text": [
      "5\n"
     ]
    }
   ],
   "source": [
    "print(series6.size)"
   ]
  },
  {
   "cell_type": "markdown",
   "id": "74f3602f",
   "metadata": {},
   "source": [
    "#### values"
   ]
  },
  {
   "cell_type": "code",
   "execution_count": 10,
   "id": "c1f8ba3f",
   "metadata": {},
   "outputs": [
    {
     "name": "stdout",
     "output_type": "stream",
     "text": [
      "[ 1  8  9  9 15]\n"
     ]
    }
   ],
   "source": [
    "print(series6.values)"
   ]
  }
 ],
 "metadata": {
  "kernelspec": {
   "display_name": "Python 3 (ipykernel)",
   "language": "python",
   "name": "python3"
  },
  "language_info": {
   "codemirror_mode": {
    "name": "ipython",
    "version": 3
   },
   "file_extension": ".py",
   "mimetype": "text/x-python",
   "name": "python",
   "nbconvert_exporter": "python",
   "pygments_lexer": "ipython3",
   "version": "3.10.4"
  }
 },
 "nbformat": 4,
 "nbformat_minor": 5
}
