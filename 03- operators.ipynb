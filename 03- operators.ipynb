{
 "cells": [
  {
   "cell_type": "markdown",
   "id": "edbe7868",
   "metadata": {},
   "source": [
    "# import numpy , pandas"
   ]
  },
  {
   "cell_type": "code",
   "execution_count": 1,
   "id": "5f34e9b0",
   "metadata": {},
   "outputs": [],
   "source": [
    "import pandas as pd\n",
    "import numpy as np"
   ]
  },
  {
   "cell_type": "code",
   "execution_count": 2,
   "id": "8178b196",
   "metadata": {},
   "outputs": [],
   "source": [
    "array1 = np.array(range(0,10,2))\n",
    "array2 = np.array(range(1,10,2))"
   ]
  },
  {
   "cell_type": "code",
   "execution_count": 3,
   "id": "ebb4e2da",
   "metadata": {},
   "outputs": [],
   "source": [
    "series1 = pd.Series(array1) \n",
    "series2 = pd.Series(array2)"
   ]
  },
  {
   "cell_type": "code",
   "execution_count": 4,
   "id": "44c80ae4",
   "metadata": {},
   "outputs": [
    {
     "name": "stdout",
     "output_type": "stream",
     "text": [
      "series1:\n",
      " 0    0\n",
      "1    2\n",
      "2    4\n",
      "3    6\n",
      "4    8\n",
      "dtype: int32\n",
      "********************\n",
      "series2:\n",
      " 0    1\n",
      "1    3\n",
      "2    5\n",
      "3    7\n",
      "4    9\n",
      "dtype: int32\n"
     ]
    }
   ],
   "source": [
    "print('series1:\\n' , series1)\n",
    "print('*'*20)\n",
    "print('series2:\\n' , series2)"
   ]
  },
  {
   "cell_type": "markdown",
   "id": "e24aaebd",
   "metadata": {},
   "source": [
    "## +"
   ]
  },
  {
   "cell_type": "code",
   "execution_count": 5,
   "id": "ecda5f21",
   "metadata": {},
   "outputs": [
    {
     "name": "stdout",
     "output_type": "stream",
     "text": [
      "series1 + series2:\n",
      " 0     1\n",
      "1     5\n",
      "2     9\n",
      "3    13\n",
      "4    17\n",
      "dtype: int32\n"
     ]
    }
   ],
   "source": [
    "print('series1 + series2:\\n' , series1 + series2)"
   ]
  },
  {
   "cell_type": "markdown",
   "id": "3caa0a2b",
   "metadata": {},
   "source": [
    "## *"
   ]
  },
  {
   "cell_type": "code",
   "execution_count": 6,
   "id": "6bf0c389",
   "metadata": {},
   "outputs": [
    {
     "name": "stdout",
     "output_type": "stream",
     "text": [
      "series1 * series2:\n",
      " 0     0\n",
      "1     6\n",
      "2    20\n",
      "3    42\n",
      "4    72\n",
      "dtype: int32\n"
     ]
    }
   ],
   "source": [
    "print('series1 * series2:\\n' , series1 * series2)"
   ]
  },
  {
   "cell_type": "markdown",
   "id": "79b076a4",
   "metadata": {},
   "source": [
    "## **"
   ]
  },
  {
   "cell_type": "code",
   "execution_count": 7,
   "id": "a09dad3d",
   "metadata": {},
   "outputs": [
    {
     "name": "stdout",
     "output_type": "stream",
     "text": [
      "series1 ** series2:\n",
      " 0            0\n",
      "1            8\n",
      "2         1024\n",
      "3       279936\n",
      "4    134217728\n",
      "dtype: int32\n"
     ]
    }
   ],
   "source": [
    "print('series1 ** series2:\\n' , series1 ** series2)"
   ]
  },
  {
   "cell_type": "markdown",
   "id": "77dcbf34",
   "metadata": {},
   "source": [
    "## =="
   ]
  },
  {
   "cell_type": "code",
   "execution_count": 8,
   "id": "ce32c3c6",
   "metadata": {},
   "outputs": [
    {
     "name": "stdout",
     "output_type": "stream",
     "text": [
      "series1 == series2:\n",
      " 0    False\n",
      "1    False\n",
      "2    False\n",
      "3    False\n",
      "4    False\n",
      "dtype: bool\n"
     ]
    }
   ],
   "source": [
    "print('series1 == series2:\\n' , series1 == series2)"
   ]
  }
 ],
 "metadata": {
  "kernelspec": {
   "display_name": "Python 3 (ipykernel)",
   "language": "python",
   "name": "python3"
  },
  "language_info": {
   "codemirror_mode": {
    "name": "ipython",
    "version": 3
   },
   "file_extension": ".py",
   "mimetype": "text/x-python",
   "name": "python",
   "nbconvert_exporter": "python",
   "pygments_lexer": "ipython3",
   "version": "3.10.4"
  }
 },
 "nbformat": 4,
 "nbformat_minor": 5
}
